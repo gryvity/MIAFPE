{
 "cells": [
  {
   "cell_type": "code",
   "execution_count": 8,
   "metadata": {},
   "outputs": [
    {
     "data": {
      "text/plain": [
       "array(['MIX_F+SU', 'SW_A', 'MIX_M+SU', 'MIX_F+A', 'FB_M', 'MIX_M+A',\n",
       "       'Mix_B_So', 'SW_SU', 'SW_So', 'MIX_M+So', 'FB_F', 'MIX_F+So'],\n",
       "      dtype=object)"
      ]
     },
     "execution_count": 8,
     "metadata": {},
     "output_type": "execute_result"
    }
   ],
   "source": [
    "# collecting biological material ids for the corresponding sheet\n",
    "\n",
    "import pandas as pd\n",
    "\n",
    "df = pd.read_excel(\"../MixedCropping_MIAFPEv1.0.xlsx\", sheet_name=\"Observation Unit\")\n",
    "\n",
    "biomat = df.iloc[4:,3].unique()\n",
    "\n",
    "biomat\n",
    "\n",
    "\n",
    "\n"
   ]
  },
  {
   "cell_type": "code",
   "execution_count": null,
   "metadata": {},
   "outputs": [],
   "source": []
  }
 ],
 "metadata": {
  "kernelspec": {
   "display_name": "Python 3",
   "language": "python",
   "name": "python3"
  },
  "language_info": {
   "codemirror_mode": {
    "name": "ipython",
    "version": 3
   },
   "file_extension": ".py",
   "mimetype": "text/x-python",
   "name": "python",
   "nbconvert_exporter": "python",
   "pygments_lexer": "ipython3",
   "version": "3.12.3"
  }
 },
 "nbformat": 4,
 "nbformat_minor": 2
}
